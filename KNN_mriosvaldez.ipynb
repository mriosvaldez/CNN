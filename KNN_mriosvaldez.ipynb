{
  "nbformat": 4,
  "nbformat_minor": 0,
  "metadata": {
    "colab": {
      "provenance": [],
      "gpuType": "T4"
    },
    "kernelspec": {
      "name": "python3",
      "display_name": "Python 3"
    },
    "accelerator": "GPU",
    "gpuClass": "standard"
  },
  "cells": [
    {
      "cell_type": "markdown",
      "source": [
        "# KNN de mriosvaldez"
      ],
      "metadata": {
        "id": "Oo1wafNofmNc"
      }
    },
    {
      "cell_type": "code",
      "source": [],
      "metadata": {
        "id": "90cBadSX5rY3"
      },
      "execution_count": null,
      "outputs": []
    },
    {
      "cell_type": "markdown",
      "source": [
        "# URL a Drive con imagenes\n",
        "[Enlace a Drive](https://drive.google.com/file/d/1FeY-fzWUkIxs1CFhtlpcSjcyhfEgKiz1/view?usp=share_link)"
      ],
      "metadata": {
        "id": "s5g2kaC444uv"
      }
    },
    {
      "cell_type": "code",
      "metadata": {
        "id": "Hdou66AlVaTQ"
      },
      "source": [
        "! unzip /content/Regiones.zip -d /content/Regiones"
      ],
      "execution_count": null,
      "outputs": []
    },
    {
      "cell_type": "code",
      "source": [
        "import tensorflow as tf\n",
        "from tensorflow import keras"
      ],
      "metadata": {
        "id": "dNS24zbCfw09"
      },
      "execution_count": null,
      "outputs": []
    },
    {
      "cell_type": "markdown",
      "source": [
        "# Lectura y tratamiento de imagenes"
      ],
      "metadata": {
        "id": "GFrpTxTj1BYK"
      }
    },
    {
      "cell_type": "code",
      "source": [
        "batch_size = 32"
      ],
      "metadata": {
        "id": "RvsV4TSdf7Z4"
      },
      "execution_count": null,
      "outputs": []
    },
    {
      "cell_type": "code",
      "source": [
        "datagen = keras.preprocessing.image.ImageDataGenerator(\n",
        "    horizontal_flip=True,\n",
        "    zoom_range=[0.8,1.2]\n",
        ")"
      ],
      "metadata": {
        "id": "qQBBGmBRrFuK"
      },
      "execution_count": null,
      "outputs": []
    },
    {
      "cell_type": "code",
      "source": [
        "train_datagen=datagen.flow_from_directory(\n",
        "   \"/content/Regiones/Regiones\",\n",
        "  classes=[\"Norte\",\"Sur\"],\n",
        "  batch_size=batch_size,\n",
        "  target_size=(100,100),\n",
        ")"
      ],
      "metadata": {
        "colab": {
          "base_uri": "https://localhost:8080/"
        },
        "id": "5wEDL7IArTHb",
        "outputId": "a088799d-a294-41e0-e1c1-0a678f8876f5"
      },
      "execution_count": null,
      "outputs": [
        {
          "output_type": "stream",
          "name": "stdout",
          "text": [
            "Found 497 images belonging to 2 classes.\n"
          ]
        }
      ]
    },
    {
      "cell_type": "markdown",
      "source": [
        "# Modelos"
      ],
      "metadata": {
        "id": "2kH418yw1HRG"
      }
    },
    {
      "cell_type": "code",
      "source": [
        "model = keras.models.Sequential([\n",
        "    \n",
        "    # Capa de entrada\n",
        "    keras.layers.Input(shape=(100, 100, 3)), # 3 en color, 1 es grayscale\n",
        "\n",
        "    # Convolución 1\n",
        "    keras.layers.Conv2D(64, (3, 3), activation='relu'), \n",
        "    keras.layers.MaxPooling2D(2, 2),\n",
        "    \n",
        "    # Convolución 2\n",
        "    keras.layers.Conv2D(32, (3, 3), activation='relu'),\n",
        "    keras.layers.MaxPooling2D(2, 2),\n",
        "\n",
        "    Convolución 3\n",
        "    #keras.layers.Conv2D(16, (3,3), activation='relu'),\n",
        "    #keras.layers.MaxPooling2D(2, 2),\n",
        "\n",
        "     # Convolución 4\n",
        "    #keras.layers.Conv2D(8, (3,3), activation='relu'),\n",
        "    #keras.layers.MaxPooling2D(2, 2),\n",
        "\n",
        "    # Achatado\n",
        "    keras.layers.Flatten(),\n",
        "\n",
        "    # Capa densa oculta\n",
        "    keras.layers.Dense(128, activation='relu'),\n",
        "\n",
        "    # Capa de salida\n",
        "    keras.layers.Dense(2, activation='softmax')     \n",
        "])\n",
        "\n",
        "model.compile(optimizer=\"adam\", loss=\"categorical_crossentropy\", metrics=[\"accuracy\"])\n",
        "\n",
        "model.summary()"
      ],
      "metadata": {
        "colab": {
          "base_uri": "https://localhost:8080/"
        },
        "id": "aYIvwgzzsDut",
        "outputId": "bd055d26-893d-43fd-eecf-de5bcd7acd5f"
      },
      "execution_count": null,
      "outputs": [
        {
          "output_type": "stream",
          "name": "stdout",
          "text": [
            "Model: \"sequential_4\"\n",
            "_________________________________________________________________\n",
            " Layer (type)                Output Shape              Param #   \n",
            "=================================================================\n",
            " conv2d_10 (Conv2D)          (None, 98, 98, 64)        1792      \n",
            "                                                                 \n",
            " max_pooling2d_10 (MaxPoolin  (None, 49, 49, 64)       0         \n",
            " g2D)                                                            \n",
            "                                                                 \n",
            " conv2d_11 (Conv2D)          (None, 47, 47, 32)        18464     \n",
            "                                                                 \n",
            " max_pooling2d_11 (MaxPoolin  (None, 23, 23, 32)       0         \n",
            " g2D)                                                            \n",
            "                                                                 \n",
            " flatten_3 (Flatten)         (None, 16928)             0         \n",
            "                                                                 \n",
            " dense_8 (Dense)             (None, 128)               2166912   \n",
            "                                                                 \n",
            " dense_9 (Dense)             (None, 2)                 258       \n",
            "                                                                 \n",
            "=================================================================\n",
            "Total params: 2,187,426\n",
            "Trainable params: 2,187,426\n",
            "Non-trainable params: 0\n",
            "_________________________________________________________________\n"
          ]
        }
      ]
    },
    {
      "cell_type": "code",
      "source": [
        "history = model.fit(train_datagen, epochs=10)\n",
        "#history = model.fit(train_datagen, epochs=15)\n",
        "#history = model.fit(train_datagen, epochs=5)"
      ],
      "metadata": {
        "colab": {
          "base_uri": "https://localhost:8080/"
        },
        "id": "aiLv8g2Fx70K",
        "outputId": "adafc5b3-8905-4abe-dab0-2709f4235728"
      },
      "execution_count": null,
      "outputs": [
        {
          "output_type": "stream",
          "name": "stdout",
          "text": [
            "Epoch 1/5\n",
            "16/16 [==============================] - 11s 550ms/step - loss: 65.8288 - accuracy: 0.5151\n",
            "Epoch 2/5\n",
            "16/16 [==============================] - 8s 533ms/step - loss: 0.6691 - accuracy: 0.4990\n",
            "Epoch 3/5\n",
            "16/16 [==============================] - 9s 582ms/step - loss: 0.6333 - accuracy: 0.6398\n",
            "Epoch 4/5\n",
            "16/16 [==============================] - 9s 585ms/step - loss: 0.6059 - accuracy: 0.6922\n",
            "Epoch 5/5\n",
            "16/16 [==============================] - 8s 473ms/step - loss: 0.7000 - accuracy: 0.6922\n"
          ]
        }
      ]
    },
    {
      "cell_type": "markdown",
      "source": [
        "# Resutados\n",
        "1ra iteracion)\n",
        "\n",
        "> Con 3 capaz de convolucion, y 10 epocas, se logro un accuracy del 87,32% \n",
        "\n",
        "2da iteracion)\n",
        "\n",
        "> Con 4 capaz de convolucion, y 15 epocas, se logro un accuracy del 52,52%\n",
        "\n",
        "\n",
        "\n",
        "3ra iteracion)\n",
        "\n",
        "> Con 2 capaz de convolucion, y 5 epocas, se logro un accuracy del 69,22%\n",
        "\n",
        "\n",
        "\n"
      ],
      "metadata": {
        "id": "nPCxKxGa0q7y"
      }
    },
    {
      "cell_type": "markdown",
      "source": [
        "# Conclusión\n",
        "Para este problema de negocio, utilizaremos un algoritmo KNN con 3 capaz de convolucion, y 10 epocas, obteniendo un accuracy del **87,32%**"
      ],
      "metadata": {
        "id": "_whGDNn_33Lr"
      }
    }
  ]
}